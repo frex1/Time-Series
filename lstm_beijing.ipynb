{
  "nbformat": 4,
  "nbformat_minor": 0,
  "metadata": {
    "colab": {
      "name": "lstm_beijing.ipynb",
      "provenance": [],
      "collapsed_sections": [],
      "authorship_tag": "ABX9TyNaKtIZCrWpS+twj+2ffjlW",
      "include_colab_link": true
    },
    "kernelspec": {
      "name": "python3",
      "display_name": "Python 3"
    }
  },
  "cells": [
    {
      "cell_type": "markdown",
      "metadata": {
        "id": "view-in-github",
        "colab_type": "text"
      },
      "source": [
        "<a href=\"https://colab.research.google.com/github/frex1/Time-Series/blob/master/lstm_beijing.ipynb\" target=\"_parent\"><img src=\"https://colab.research.google.com/assets/colab-badge.svg\" alt=\"Open In Colab\"/></a>"
      ]
    },
    {
      "cell_type": "markdown",
      "metadata": {
        "id": "uwXaEVuobGct",
        "colab_type": "text"
      },
      "source": [
        "# Air Pollution Forecasting\n",
        "Using Air Quality dataset from UCI.\n",
        "This dataset contains hourly weather report and pollution levels at the US embassy, Beijing China for 5 years (2010-2014).\n",
        "The pollution called PM2.5 concentration, and the weather information including dew point, temperature, pressure, wind direction, wind speed and the cumulative number of hours of snow and rain were recorded as follows:\n",
        "*   No: row number\n",
        "*   year: year of data in this row\n",
        "*   month: month of data in this row\n",
        "*   day: day of data in this row\n",
        "*   hour: hour of data in this row\n",
        "*   pm2.5: PM2.5 concentration\n",
        "*   DEWP: Dew Point\n",
        "*   TEMP: Temperature\n",
        "*   PRES: Pressure\n",
        "*   cbwd: Combined wind direction\n",
        "*   Iws: Cumulated wind speed\n",
        "*   Is: Cumulated hours of snow\n",
        "*   Ir: Cumulated hours of rain"
      ]
    },
    {
      "cell_type": "code",
      "metadata": {
        "id": "EgV7Wjmph5X5",
        "colab_type": "code",
        "colab": {}
      },
      "source": [
        "# Suppress warnings\n",
        "import warnings\n",
        "warnings.filterwarnings('ignore')"
      ],
      "execution_count": 0,
      "outputs": []
    },
    {
      "cell_type": "markdown",
      "metadata": {
        "id": "F-UsnIWFXp-L",
        "colab_type": "text"
      },
      "source": [
        "# Get and prepare data\n",
        "We shall be using the UCI dataset. As part of the data preparation, we have to combine the year, month, day and hour into one datatime variable and use it as index. We shall also handle missing values if any and rename the variables with more sensible names."
      ]
    },
    {
      "cell_type": "code",
      "metadata": {
        "id": "wn0M0c8oWwDj",
        "colab_type": "code",
        "outputId": "29d266a3-800c-4754-cef7-489eec207b4f",
        "colab": {
          "base_uri": "https://localhost:8080/",
          "height": 235
        }
      },
      "source": [
        "# Read data and combine year, month, day, time into a datetime variable so it can be used as index. Name the index 'date'.\n",
        "import pandas as pd\n",
        "from datetime import datetime as dt\n",
        "def parse(x):\n",
        "\treturn dt.strptime(x, '%Y %m %d %H')\n",
        "url = 'https://archive.ics.uci.edu/ml/machine-learning-databases/00381/PRSA_data_2010.1.1-2014.12.31.csv'\n",
        "raw_data = pd.read_csv(url,  parse_dates = [['year', 'month', 'day', 'hour']], index_col=0, date_parser=parse)\n",
        "# Rename index\n",
        "raw_data.index.name = 'date'\n",
        "raw_data.head(5)"
      ],
      "execution_count": 14,
      "outputs": [
        {
          "output_type": "execute_result",
          "data": {
            "text/html": [
              "<div>\n",
              "<style scoped>\n",
              "    .dataframe tbody tr th:only-of-type {\n",
              "        vertical-align: middle;\n",
              "    }\n",
              "\n",
              "    .dataframe tbody tr th {\n",
              "        vertical-align: top;\n",
              "    }\n",
              "\n",
              "    .dataframe thead th {\n",
              "        text-align: right;\n",
              "    }\n",
              "</style>\n",
              "<table border=\"1\" class=\"dataframe\">\n",
              "  <thead>\n",
              "    <tr style=\"text-align: right;\">\n",
              "      <th></th>\n",
              "      <th>No</th>\n",
              "      <th>pm2.5</th>\n",
              "      <th>DEWP</th>\n",
              "      <th>TEMP</th>\n",
              "      <th>PRES</th>\n",
              "      <th>cbwd</th>\n",
              "      <th>Iws</th>\n",
              "      <th>Is</th>\n",
              "      <th>Ir</th>\n",
              "    </tr>\n",
              "    <tr>\n",
              "      <th>date</th>\n",
              "      <th></th>\n",
              "      <th></th>\n",
              "      <th></th>\n",
              "      <th></th>\n",
              "      <th></th>\n",
              "      <th></th>\n",
              "      <th></th>\n",
              "      <th></th>\n",
              "      <th></th>\n",
              "    </tr>\n",
              "  </thead>\n",
              "  <tbody>\n",
              "    <tr>\n",
              "      <th>2010-01-01 00:00:00</th>\n",
              "      <td>1</td>\n",
              "      <td>NaN</td>\n",
              "      <td>-21</td>\n",
              "      <td>-11.0</td>\n",
              "      <td>1021.0</td>\n",
              "      <td>NW</td>\n",
              "      <td>1.79</td>\n",
              "      <td>0</td>\n",
              "      <td>0</td>\n",
              "    </tr>\n",
              "    <tr>\n",
              "      <th>2010-01-01 01:00:00</th>\n",
              "      <td>2</td>\n",
              "      <td>NaN</td>\n",
              "      <td>-21</td>\n",
              "      <td>-12.0</td>\n",
              "      <td>1020.0</td>\n",
              "      <td>NW</td>\n",
              "      <td>4.92</td>\n",
              "      <td>0</td>\n",
              "      <td>0</td>\n",
              "    </tr>\n",
              "    <tr>\n",
              "      <th>2010-01-01 02:00:00</th>\n",
              "      <td>3</td>\n",
              "      <td>NaN</td>\n",
              "      <td>-21</td>\n",
              "      <td>-11.0</td>\n",
              "      <td>1019.0</td>\n",
              "      <td>NW</td>\n",
              "      <td>6.71</td>\n",
              "      <td>0</td>\n",
              "      <td>0</td>\n",
              "    </tr>\n",
              "    <tr>\n",
              "      <th>2010-01-01 03:00:00</th>\n",
              "      <td>4</td>\n",
              "      <td>NaN</td>\n",
              "      <td>-21</td>\n",
              "      <td>-14.0</td>\n",
              "      <td>1019.0</td>\n",
              "      <td>NW</td>\n",
              "      <td>9.84</td>\n",
              "      <td>0</td>\n",
              "      <td>0</td>\n",
              "    </tr>\n",
              "    <tr>\n",
              "      <th>2010-01-01 04:00:00</th>\n",
              "      <td>5</td>\n",
              "      <td>NaN</td>\n",
              "      <td>-20</td>\n",
              "      <td>-12.0</td>\n",
              "      <td>1018.0</td>\n",
              "      <td>NW</td>\n",
              "      <td>12.97</td>\n",
              "      <td>0</td>\n",
              "      <td>0</td>\n",
              "    </tr>\n",
              "  </tbody>\n",
              "</table>\n",
              "</div>"
            ],
            "text/plain": [
              "                     No  pm2.5  DEWP  TEMP    PRES cbwd    Iws  Is  Ir\n",
              "date                                                                  \n",
              "2010-01-01 00:00:00   1    NaN   -21 -11.0  1021.0   NW   1.79   0   0\n",
              "2010-01-01 01:00:00   2    NaN   -21 -12.0  1020.0   NW   4.92   0   0\n",
              "2010-01-01 02:00:00   3    NaN   -21 -11.0  1019.0   NW   6.71   0   0\n",
              "2010-01-01 03:00:00   4    NaN   -21 -14.0  1019.0   NW   9.84   0   0\n",
              "2010-01-01 04:00:00   5    NaN   -20 -12.0  1018.0   NW  12.97   0   0"
            ]
          },
          "metadata": {
            "tags": []
          },
          "execution_count": 14
        }
      ]
    },
    {
      "cell_type": "code",
      "metadata": {
        "id": "hAF8-5iJXCcI",
        "colab_type": "code",
        "outputId": "c0bd9cbb-b9a8-4c14-f412-db1a4cc817ca",
        "colab": {
          "base_uri": "https://localhost:8080/",
          "height": 289
        }
      },
      "source": [
        "# Check content\n",
        "raw_data.info()"
      ],
      "execution_count": 9,
      "outputs": [
        {
          "output_type": "stream",
          "text": [
            "<class 'pandas.core.frame.DataFrame'>\n",
            "DatetimeIndex: 43824 entries, 2010-01-01 00:00:00 to 2014-12-31 23:00:00\n",
            "Data columns (total 9 columns):\n",
            " #   Column  Non-Null Count  Dtype  \n",
            "---  ------  --------------  -----  \n",
            " 0   No      43824 non-null  int64  \n",
            " 1   pm2.5   41757 non-null  float64\n",
            " 2   DEWP    43824 non-null  int64  \n",
            " 3   TEMP    43824 non-null  float64\n",
            " 4   PRES    43824 non-null  float64\n",
            " 5   cbwd    43824 non-null  object \n",
            " 6   Iws     43824 non-null  float64\n",
            " 7   Is      43824 non-null  int64  \n",
            " 8   Ir      43824 non-null  int64  \n",
            "dtypes: float64(4), int64(4), object(1)\n",
            "memory usage: 3.3+ MB\n"
          ],
          "name": "stdout"
        }
      ]
    },
    {
      "cell_type": "code",
      "metadata": {
        "id": "hPTmf2nbXbyK",
        "colab_type": "code",
        "outputId": "200f4e99-ebdd-4318-99e5-e79e40f0a579",
        "colab": {
          "base_uri": "https://localhost:8080/",
          "height": 187
        }
      },
      "source": [
        "# Check for missing values\n",
        "raw_data.isnull().sum()"
      ],
      "execution_count": 10,
      "outputs": [
        {
          "output_type": "execute_result",
          "data": {
            "text/plain": [
              "No          0\n",
              "pm2.5    2067\n",
              "DEWP        0\n",
              "TEMP        0\n",
              "PRES        0\n",
              "cbwd        0\n",
              "Iws         0\n",
              "Is          0\n",
              "Ir          0\n",
              "dtype: int64"
            ]
          },
          "metadata": {
            "tags": []
          },
          "execution_count": 10
        }
      ]
    },
    {
      "cell_type": "code",
      "metadata": {
        "id": "oB_dopAPT0Dd",
        "colab_type": "code",
        "outputId": "7c311bdc-e089-4425-8fe0-7d16d42bff3b",
        "colab": {
          "base_uri": "https://localhost:8080/",
          "height": 34
        }
      },
      "source": [
        "# dimension\n",
        "raw_data.shape"
      ],
      "execution_count": 11,
      "outputs": [
        {
          "output_type": "execute_result",
          "data": {
            "text/plain": [
              "(43824, 9)"
            ]
          },
          "metadata": {
            "tags": []
          },
          "execution_count": 11
        }
      ]
    },
    {
      "cell_type": "code",
      "metadata": {
        "id": "q6Lfy4EJZJmr",
        "colab_type": "code",
        "outputId": "b1b27758-d9b3-40b0-b89a-a9ef93b25bd8",
        "colab": {
          "base_uri": "https://localhost:8080/",
          "height": 235
        }
      },
      "source": [
        "# Drop missing values\n",
        "chosen_data = raw_data.dropna(axis=0, how='any', inplace=False)\n",
        "# Drop 'No' column\n",
        "chosen_data.drop('No', inplace=True, axis=1)\n",
        "# Rename the columns for clarity\n",
        "chosen_data.columns = ['pollution', 'dew', 'temperature', 'pressure', 'wind_dir', 'wind_speed', 'snow', 'rain']\n",
        "chosen_data.head(5)"
      ],
      "execution_count": 95,
      "outputs": [
        {
          "output_type": "execute_result",
          "data": {
            "text/html": [
              "<div>\n",
              "<style scoped>\n",
              "    .dataframe tbody tr th:only-of-type {\n",
              "        vertical-align: middle;\n",
              "    }\n",
              "\n",
              "    .dataframe tbody tr th {\n",
              "        vertical-align: top;\n",
              "    }\n",
              "\n",
              "    .dataframe thead th {\n",
              "        text-align: right;\n",
              "    }\n",
              "</style>\n",
              "<table border=\"1\" class=\"dataframe\">\n",
              "  <thead>\n",
              "    <tr style=\"text-align: right;\">\n",
              "      <th></th>\n",
              "      <th>pollution</th>\n",
              "      <th>dew</th>\n",
              "      <th>temperature</th>\n",
              "      <th>pressure</th>\n",
              "      <th>wind_dir</th>\n",
              "      <th>wind_speed</th>\n",
              "      <th>snow</th>\n",
              "      <th>rain</th>\n",
              "    </tr>\n",
              "    <tr>\n",
              "      <th>date</th>\n",
              "      <th></th>\n",
              "      <th></th>\n",
              "      <th></th>\n",
              "      <th></th>\n",
              "      <th></th>\n",
              "      <th></th>\n",
              "      <th></th>\n",
              "      <th></th>\n",
              "    </tr>\n",
              "  </thead>\n",
              "  <tbody>\n",
              "    <tr>\n",
              "      <th>2010-01-02 00:00:00</th>\n",
              "      <td>129.0</td>\n",
              "      <td>-16</td>\n",
              "      <td>-4.0</td>\n",
              "      <td>1020.0</td>\n",
              "      <td>SE</td>\n",
              "      <td>1.79</td>\n",
              "      <td>0</td>\n",
              "      <td>0</td>\n",
              "    </tr>\n",
              "    <tr>\n",
              "      <th>2010-01-02 01:00:00</th>\n",
              "      <td>148.0</td>\n",
              "      <td>-15</td>\n",
              "      <td>-4.0</td>\n",
              "      <td>1020.0</td>\n",
              "      <td>SE</td>\n",
              "      <td>2.68</td>\n",
              "      <td>0</td>\n",
              "      <td>0</td>\n",
              "    </tr>\n",
              "    <tr>\n",
              "      <th>2010-01-02 02:00:00</th>\n",
              "      <td>159.0</td>\n",
              "      <td>-11</td>\n",
              "      <td>-5.0</td>\n",
              "      <td>1021.0</td>\n",
              "      <td>SE</td>\n",
              "      <td>3.57</td>\n",
              "      <td>0</td>\n",
              "      <td>0</td>\n",
              "    </tr>\n",
              "    <tr>\n",
              "      <th>2010-01-02 03:00:00</th>\n",
              "      <td>181.0</td>\n",
              "      <td>-7</td>\n",
              "      <td>-5.0</td>\n",
              "      <td>1022.0</td>\n",
              "      <td>SE</td>\n",
              "      <td>5.36</td>\n",
              "      <td>1</td>\n",
              "      <td>0</td>\n",
              "    </tr>\n",
              "    <tr>\n",
              "      <th>2010-01-02 04:00:00</th>\n",
              "      <td>138.0</td>\n",
              "      <td>-7</td>\n",
              "      <td>-5.0</td>\n",
              "      <td>1022.0</td>\n",
              "      <td>SE</td>\n",
              "      <td>6.25</td>\n",
              "      <td>2</td>\n",
              "      <td>0</td>\n",
              "    </tr>\n",
              "  </tbody>\n",
              "</table>\n",
              "</div>"
            ],
            "text/plain": [
              "                     pollution  dew  temperature  ...  wind_speed snow  rain\n",
              "date                                              ...                       \n",
              "2010-01-02 00:00:00      129.0  -16         -4.0  ...        1.79    0     0\n",
              "2010-01-02 01:00:00      148.0  -15         -4.0  ...        2.68    0     0\n",
              "2010-01-02 02:00:00      159.0  -11         -5.0  ...        3.57    0     0\n",
              "2010-01-02 03:00:00      181.0   -7         -5.0  ...        5.36    1     0\n",
              "2010-01-02 04:00:00      138.0   -7         -5.0  ...        6.25    2     0\n",
              "\n",
              "[5 rows x 8 columns]"
            ]
          },
          "metadata": {
            "tags": []
          },
          "execution_count": 95
        }
      ]
    },
    {
      "cell_type": "markdown",
      "metadata": {
        "id": "u0wSuLFpnxB-",
        "colab_type": "text"
      },
      "source": [
        "# Visualizations\n",
        "Showing plot of each series"
      ]
    },
    {
      "cell_type": "code",
      "metadata": {
        "id": "SNqzH9sZl0VK",
        "colab_type": "code",
        "outputId": "f9580915-e372-4799-bd02-22d057f4c4a6",
        "colab": {
          "base_uri": "https://localhost:8080/",
          "height": 268
        }
      },
      "source": [
        "import matplotlib.pyplot as plt\n",
        "values = chosen_data.values\n",
        "# Select the variables to plot\n",
        "series = [0,1, 2, 3, 5, 6, 7]\n",
        "i = 1\n",
        "# make seperate plots for each column\n",
        "plt.figure()\n",
        "for var in series:\n",
        "\tplt.subplot(len(series), 1, i)\n",
        "\tplt.plot(values[:, var])\n",
        "\tplt.title(chosen_data.columns[var], y=0.5, loc='left')\n",
        "\ti += 1\n",
        "plt.show()"
      ],
      "execution_count": 16,
      "outputs": [
        {
          "output_type": "display_data",
          "data": {
            "image/png": "[encoded data removed]",
            "text/plain": [
              "<Figure size 432x288 with 7 Axes>"
            ]
          },
          "metadata": {
            "tags": [],
            "needs_background": "light"
          }
        }
      ]
    },
    {
      "cell_type": "markdown",
      "metadata": {
        "id": "SWQvJFBXuwMw",
        "colab_type": "text"
      },
      "source": [
        "# Modelling\n",
        "We can build an LSTM model using Keras with Tensorflow backend to predict the current pollution levels given previous polution and weather values. To do that we must prepare the data further by encoding the categorical variable, normalizing all input and then framing the series as a supervised learning problem."
      ]
    },
    {
      "cell_type": "code",
      "metadata": {
        "id": "BQEXskhp2ISk",
        "colab_type": "code",
        "outputId": "250e327b-9716-480b-96da-2a104a07a581",
        "colab": {
          "base_uri": "https://localhost:8080/",
          "height": 34
        }
      },
      "source": [
        "# Import relevant libraries\n",
        "from math import sqrt\n",
        "import numpy as np\n",
        "from sklearn.preprocessing import MinMaxScaler\n",
        "from sklearn.preprocessing import LabelEncoder\n",
        "from sklearn.metrics import mean_squared_error\n",
        "from keras.models import Sequential\n",
        "from keras.layers import Dense\n",
        "from keras.layers import LSTM"
      ],
      "execution_count": 17,
      "outputs": [
        {
          "output_type": "stream",
          "text": [
            "Using TensorFlow backend.\n"
          ],
          "name": "stderr"
        }
      ]
    },
    {
      "cell_type": "code",
      "metadata": {
        "id": "c9ZKhw-Mp091",
        "colab_type": "code",
        "outputId": "9baf9c58-3677-4fec-8e1a-0b143fcfcbf9",
        "colab": {
          "base_uri": "https://localhost:8080/",
          "height": 102
        }
      },
      "source": [
        "# Unique values of wind direction\n",
        "chosen_data['wind_dir'].value_counts()"
      ],
      "execution_count": 0,
      "outputs": [
        {
          "output_type": "execute_result",
          "data": {
            "text/plain": [
              "SE    14573\n",
              "NW    13484\n",
              "cv     8944\n",
              "NE     4756\n",
              "Name: wind_dir, dtype: int64"
            ]
          },
          "metadata": {
            "tags": []
          },
          "execution_count": 27
        }
      ]
    },
    {
      "cell_type": "code",
      "metadata": {
        "id": "w6pEtrJJwl2K",
        "colab_type": "code",
        "outputId": "aef7d8c0-9ede-4d56-9e93-fe678a810e8b",
        "colab": {
          "base_uri": "https://localhost:8080/",
          "height": 102
        }
      },
      "source": [
        "# Encode wind_dir values\n",
        "encoder = LabelEncoder()\n",
        "chosen_data['wind_dir'] = encoder.fit_transform(chosen_data['wind_dir'])\n",
        "chosen_data['wind_dir'].value_counts()"
      ],
      "execution_count": 96,
      "outputs": [
        {
          "output_type": "execute_result",
          "data": {
            "text/plain": [
              "2    14573\n",
              "1    13484\n",
              "3     8944\n",
              "0     4756\n",
              "Name: wind_dir, dtype: int64"
            ]
          },
          "metadata": {
            "tags": []
          },
          "execution_count": 96
        }
      ]
    },
    {
      "cell_type": "code",
      "metadata": {
        "id": "dLbY8pvjucTv",
        "colab_type": "code",
        "colab": {}
      },
      "source": [
        "# Normalization\n",
        "scaler = MinMaxScaler(feature_range=(0,1))\n",
        "scaled_data = scaler.fit_transform(chosen_data)"
      ],
      "execution_count": 0,
      "outputs": []
    },
    {
      "cell_type": "code",
      "metadata": {
        "id": "ILZOyUxexg1-",
        "colab_type": "code",
        "colab": {}
      },
      "source": [
        "# Function to convert series to supervised learning\n",
        "def series_to_supervised(data, n_in=1, n_out=1, dropnan=True):\n",
        "\tn_vars = 1 if type(data) is list else data.shape[1]\n",
        "\tdf = pd.DataFrame(data)\n",
        "\tcols, names = list(), list()\n",
        "\t# input sequence (t-n, ... t-1)\n",
        "\tfor i in range(n_in, 0, -1):\n",
        "\t\tcols.append(df.shift(i))\n",
        "\t\tnames += [('var%d(t-%d)' % (j+1, i)) for j in range(n_vars)]\n",
        "\t# forecast sequence (t, t+1, ... t+n)\n",
        "\tfor i in range(0, n_out):\n",
        "\t\tcols.append(df.shift(-i))\n",
        "\t\tif i == 0:\n",
        "\t\t\tnames += [('var%d(t)' % (j+1)) for j in range(n_vars)]\n",
        "\t\telse:\n",
        "\t\t\tnames += [('var%d(t+%d)' % (j+1, i)) for j in range(n_vars)]\n",
        "\t# putting it all together\n",
        "\tagg = pd.concat(cols, axis=1)\n",
        "\tagg.columns = names\n",
        "\t# drop rows with NaN values\n",
        "\tif dropnan:\n",
        "\t\tagg.dropna(inplace=True)\n",
        "\treturn agg"
      ],
      "execution_count": 0,
      "outputs": []
    },
    {
      "cell_type": "code",
      "metadata": {
        "id": "0kI6QlL_37Ie",
        "colab_type": "code",
        "outputId": "7bd32f0f-d658-4ee3-d8d6-fa5f9190d0f0",
        "colab": {
          "base_uri": "https://localhost:8080/",
          "height": 221
        }
      },
      "source": [
        "# frame as supervised learning\n",
        "reframed_data = series_to_supervised(scaled_data, 1, 1)\n",
        "reframed_data.head(5)"
      ],
      "execution_count": 25,
      "outputs": [
        {
          "output_type": "execute_result",
          "data": {
            "text/html": [
              "<div>\n",
              "<style scoped>\n",
              "    .dataframe tbody tr th:only-of-type {\n",
              "        vertical-align: middle;\n",
              "    }\n",
              "\n",
              "    .dataframe tbody tr th {\n",
              "        vertical-align: top;\n",
              "    }\n",
              "\n",
              "    .dataframe thead th {\n",
              "        text-align: right;\n",
              "    }\n",
              "</style>\n",
              "<table border=\"1\" class=\"dataframe\">\n",
              "  <thead>\n",
              "    <tr style=\"text-align: right;\">\n",
              "      <th></th>\n",
              "      <th>var1(t-1)</th>\n",
              "      <th>var2(t-1)</th>\n",
              "      <th>var3(t-1)</th>\n",
              "      <th>var4(t-1)</th>\n",
              "      <th>var5(t-1)</th>\n",
              "      <th>var6(t-1)</th>\n",
              "      <th>var7(t-1)</th>\n",
              "      <th>var8(t-1)</th>\n",
              "      <th>var1(t)</th>\n",
              "      <th>var2(t)</th>\n",
              "      <th>var3(t)</th>\n",
              "      <th>var4(t)</th>\n",
              "      <th>var5(t)</th>\n",
              "      <th>var6(t)</th>\n",
              "      <th>var7(t)</th>\n",
              "      <th>var8(t)</th>\n",
              "    </tr>\n",
              "  </thead>\n",
              "  <tbody>\n",
              "    <tr>\n",
              "      <th>1</th>\n",
              "      <td>0.129779</td>\n",
              "      <td>0.352941</td>\n",
              "      <td>0.245902</td>\n",
              "      <td>0.527273</td>\n",
              "      <td>0.666667</td>\n",
              "      <td>0.002372</td>\n",
              "      <td>0.000000</td>\n",
              "      <td>0.0</td>\n",
              "      <td>0.148893</td>\n",
              "      <td>0.367647</td>\n",
              "      <td>0.245902</td>\n",
              "      <td>0.527273</td>\n",
              "      <td>0.666667</td>\n",
              "      <td>0.003947</td>\n",
              "      <td>0.000000</td>\n",
              "      <td>0.0</td>\n",
              "    </tr>\n",
              "    <tr>\n",
              "      <th>2</th>\n",
              "      <td>0.148893</td>\n",
              "      <td>0.367647</td>\n",
              "      <td>0.245902</td>\n",
              "      <td>0.527273</td>\n",
              "      <td>0.666667</td>\n",
              "      <td>0.003947</td>\n",
              "      <td>0.000000</td>\n",
              "      <td>0.0</td>\n",
              "      <td>0.159960</td>\n",
              "      <td>0.426471</td>\n",
              "      <td>0.229508</td>\n",
              "      <td>0.545455</td>\n",
              "      <td>0.666667</td>\n",
              "      <td>0.005522</td>\n",
              "      <td>0.000000</td>\n",
              "      <td>0.0</td>\n",
              "    </tr>\n",
              "    <tr>\n",
              "      <th>3</th>\n",
              "      <td>0.159960</td>\n",
              "      <td>0.426471</td>\n",
              "      <td>0.229508</td>\n",
              "      <td>0.545455</td>\n",
              "      <td>0.666667</td>\n",
              "      <td>0.005522</td>\n",
              "      <td>0.000000</td>\n",
              "      <td>0.0</td>\n",
              "      <td>0.182093</td>\n",
              "      <td>0.485294</td>\n",
              "      <td>0.229508</td>\n",
              "      <td>0.563636</td>\n",
              "      <td>0.666667</td>\n",
              "      <td>0.008690</td>\n",
              "      <td>0.037037</td>\n",
              "      <td>0.0</td>\n",
              "    </tr>\n",
              "    <tr>\n",
              "      <th>4</th>\n",
              "      <td>0.182093</td>\n",
              "      <td>0.485294</td>\n",
              "      <td>0.229508</td>\n",
              "      <td>0.563636</td>\n",
              "      <td>0.666667</td>\n",
              "      <td>0.008690</td>\n",
              "      <td>0.037037</td>\n",
              "      <td>0.0</td>\n",
              "      <td>0.138833</td>\n",
              "      <td>0.485294</td>\n",
              "      <td>0.229508</td>\n",
              "      <td>0.563636</td>\n",
              "      <td>0.666667</td>\n",
              "      <td>0.010265</td>\n",
              "      <td>0.074074</td>\n",
              "      <td>0.0</td>\n",
              "    </tr>\n",
              "    <tr>\n",
              "      <th>5</th>\n",
              "      <td>0.138833</td>\n",
              "      <td>0.485294</td>\n",
              "      <td>0.229508</td>\n",
              "      <td>0.563636</td>\n",
              "      <td>0.666667</td>\n",
              "      <td>0.010265</td>\n",
              "      <td>0.074074</td>\n",
              "      <td>0.0</td>\n",
              "      <td>0.109658</td>\n",
              "      <td>0.485294</td>\n",
              "      <td>0.213115</td>\n",
              "      <td>0.563636</td>\n",
              "      <td>0.666667</td>\n",
              "      <td>0.011840</td>\n",
              "      <td>0.111111</td>\n",
              "      <td>0.0</td>\n",
              "    </tr>\n",
              "  </tbody>\n",
              "</table>\n",
              "</div>"
            ],
            "text/plain": [
              "   var1(t-1)  var2(t-1)  var3(t-1)  ...   var6(t)   var7(t)  var8(t)\n",
              "1   0.129779   0.352941   0.245902  ...  0.003947  0.000000      0.0\n",
              "2   0.148893   0.367647   0.245902  ...  0.005522  0.000000      0.0\n",
              "3   0.159960   0.426471   0.229508  ...  0.008690  0.037037      0.0\n",
              "4   0.182093   0.485294   0.229508  ...  0.010265  0.074074      0.0\n",
              "5   0.138833   0.485294   0.229508  ...  0.011840  0.111111      0.0\n",
              "\n",
              "[5 rows x 16 columns]"
            ]
          },
          "metadata": {
            "tags": []
          },
          "execution_count": 25
        }
      ]
    },
    {
      "cell_type": "code",
      "metadata": {
        "id": "FQ8Mt7iL6MS8",
        "colab_type": "code",
        "outputId": "a7deaea7-83f8-405c-c0b1-886c88a8483d",
        "colab": {
          "base_uri": "https://localhost:8080/",
          "height": 204
        }
      },
      "source": [
        "# We are trying to predict pollution so let's drop the columns we are not interested in  predicting\n",
        "reframed_data.drop(reframed_data.columns[[9,10,11,12,13,14,15]], axis = 1, inplace = True)\n",
        "reframed_data.head(5)"
      ],
      "execution_count": 26,
      "outputs": [
        {
          "output_type": "execute_result",
          "data": {
            "text/html": [
              "<div>\n",
              "<style scoped>\n",
              "    .dataframe tbody tr th:only-of-type {\n",
              "        vertical-align: middle;\n",
              "    }\n",
              "\n",
              "    .dataframe tbody tr th {\n",
              "        vertical-align: top;\n",
              "    }\n",
              "\n",
              "    .dataframe thead th {\n",
              "        text-align: right;\n",
              "    }\n",
              "</style>\n",
              "<table border=\"1\" class=\"dataframe\">\n",
              "  <thead>\n",
              "    <tr style=\"text-align: right;\">\n",
              "      <th></th>\n",
              "      <th>var1(t-1)</th>\n",
              "      <th>var2(t-1)</th>\n",
              "      <th>var3(t-1)</th>\n",
              "      <th>var4(t-1)</th>\n",
              "      <th>var5(t-1)</th>\n",
              "      <th>var6(t-1)</th>\n",
              "      <th>var7(t-1)</th>\n",
              "      <th>var8(t-1)</th>\n",
              "      <th>var1(t)</th>\n",
              "    </tr>\n",
              "  </thead>\n",
              "  <tbody>\n",
              "    <tr>\n",
              "      <th>1</th>\n",
              "      <td>0.129779</td>\n",
              "      <td>0.352941</td>\n",
              "      <td>0.245902</td>\n",
              "      <td>0.527273</td>\n",
              "      <td>0.666667</td>\n",
              "      <td>0.002372</td>\n",
              "      <td>0.000000</td>\n",
              "      <td>0.0</td>\n",
              "      <td>0.148893</td>\n",
              "    </tr>\n",
              "    <tr>\n",
              "      <th>2</th>\n",
              "      <td>0.148893</td>\n",
              "      <td>0.367647</td>\n",
              "      <td>0.245902</td>\n",
              "      <td>0.527273</td>\n",
              "      <td>0.666667</td>\n",
              "      <td>0.003947</td>\n",
              "      <td>0.000000</td>\n",
              "      <td>0.0</td>\n",
              "      <td>0.159960</td>\n",
              "    </tr>\n",
              "    <tr>\n",
              "      <th>3</th>\n",
              "      <td>0.159960</td>\n",
              "      <td>0.426471</td>\n",
              "      <td>0.229508</td>\n",
              "      <td>0.545455</td>\n",
              "      <td>0.666667</td>\n",
              "      <td>0.005522</td>\n",
              "      <td>0.000000</td>\n",
              "      <td>0.0</td>\n",
              "      <td>0.182093</td>\n",
              "    </tr>\n",
              "    <tr>\n",
              "      <th>4</th>\n",
              "      <td>0.182093</td>\n",
              "      <td>0.485294</td>\n",
              "      <td>0.229508</td>\n",
              "      <td>0.563636</td>\n",
              "      <td>0.666667</td>\n",
              "      <td>0.008690</td>\n",
              "      <td>0.037037</td>\n",
              "      <td>0.0</td>\n",
              "      <td>0.138833</td>\n",
              "    </tr>\n",
              "    <tr>\n",
              "      <th>5</th>\n",
              "      <td>0.138833</td>\n",
              "      <td>0.485294</td>\n",
              "      <td>0.229508</td>\n",
              "      <td>0.563636</td>\n",
              "      <td>0.666667</td>\n",
              "      <td>0.010265</td>\n",
              "      <td>0.074074</td>\n",
              "      <td>0.0</td>\n",
              "      <td>0.109658</td>\n",
              "    </tr>\n",
              "  </tbody>\n",
              "</table>\n",
              "</div>"
            ],
            "text/plain": [
              "   var1(t-1)  var2(t-1)  var3(t-1)  ...  var7(t-1)  var8(t-1)   var1(t)\n",
              "1   0.129779   0.352941   0.245902  ...   0.000000        0.0  0.148893\n",
              "2   0.148893   0.367647   0.245902  ...   0.000000        0.0  0.159960\n",
              "3   0.159960   0.426471   0.229508  ...   0.000000        0.0  0.182093\n",
              "4   0.182093   0.485294   0.229508  ...   0.037037        0.0  0.138833\n",
              "5   0.138833   0.485294   0.229508  ...   0.074074        0.0  0.109658\n",
              "\n",
              "[5 rows x 9 columns]"
            ]
          },
          "metadata": {
            "tags": []
          },
          "execution_count": 26
        }
      ]
    },
    {
      "cell_type": "markdown",
      "metadata": {
        "id": "__wYGFYC73U5",
        "colab_type": "text"
      },
      "source": [
        "We have used label encoding and 1 hour time steps but we could also try one hot encoding and more than 1 hr time steps considering LSTM's backpropagation"
      ]
    },
    {
      "cell_type": "markdown",
      "metadata": {
        "id": "E-wc7JKk82nI",
        "colab_type": "text"
      },
      "source": [
        "# Train Test split\n",
        "Split the dataset into train and test sets, then split the train and test sets into input and output variables. The inputs (X) are reshaped into the 3D format expected by LSTMs, namely [samples, timesteps, features]"
      ]
    },
    {
      "cell_type": "code",
      "metadata": {
        "id": "Gqi1ZN_f-ZSg",
        "colab_type": "code",
        "outputId": "1a79cb62-e022-406f-b239-6e88a216c4ca",
        "colab": {
          "base_uri": "https://localhost:8080/",
          "height": 34
        }
      },
      "source": [
        "# Split first 4 years as Train and last one year as Test\n",
        "n_train_hours = 365 * 24\n",
        "values = reframed_data.values\n",
        "train = values[n_train_hours:,:]\n",
        "test = values[:n_train_hours,:]\n",
        "# split into input and outputs\n",
        "X_train, y_train = train[:, :-1], train[:, -1]\n",
        "X_test, y_test = test[:, :-1], test[:, -1]\n",
        "# reshape input to be 3D [samples, timesteps, features]\n",
        "X_train = X_train.reshape((X_train.shape[0], 1, X_train.shape[1]))\n",
        "X_test = X_test.reshape((X_test.shape[0], 1, X_test.shape[1]))\n",
        "print(X_train.shape, y_train.shape, X_test.shape, y_test.shape)"
      ],
      "execution_count": 84,
      "outputs": [
        {
          "output_type": "stream",
          "text": [
            "(32996, 1, 8) (32996,) (8760, 1, 8) (8760,)\n"
          ],
          "name": "stdout"
        }
      ]
    },
    {
      "cell_type": "markdown",
      "metadata": {
        "id": "xxZrNBdqADqC",
        "colab_type": "text"
      },
      "source": [
        "# Model\n",
        "We are going to build an LSTM model with 50 neurons in the first hidden layer and 1 neuron in the output layer for predicting pollution. The input shape will be 1 time step with 8 features.\n",
        "\n",
        "We shall be using the Mean Absolute Error (MAE) as loss function and Adam version of stochastic gradient descent as optimizer. 50 training epochs will be used to fit the model with a batch size of 72.\n",
        "The internal state of LSTM in Keras is reset at the end of each batch, so an internal state that is a function of a number of days may be helpful (to try).\n",
        "\n",
        "We will set validation_data argument in the fit() function and plot to keep track of training and testing loss during training."
      ]
    },
    {
      "cell_type": "code",
      "metadata": {
        "id": "W7AJprPA7lkP",
        "colab_type": "code",
        "outputId": "0f79eb2e-ec73-4aed-83c9-a8acbc1a2622",
        "colab": {
          "base_uri": "https://localhost:8080/",
          "height": 1000
        }
      },
      "source": [
        "model = Sequential()\n",
        "model.add(LSTM(50, input_shape=(X_train.shape[1], X_train.shape[2])))\n",
        "model.add(Dense(1))\n",
        "model.compile(loss='mae', optimizer='adam')\n",
        "# fit network\n",
        "history = model.fit(X_train, y_train, epochs=50, batch_size=72, validation_data=(X_test, y_test), verbose=2, shuffle=False)\n",
        "# plot history\n",
        "plt.plot(history.history['loss'], label='train')\n",
        "plt.plot(history.history['val_loss'], label='test')\n",
        "plt.legend()\n",
        "plt.show()"
      ],
      "execution_count": 85,
      "outputs": [
        {
          "output_type": "stream",
          "text": [
            "Train on 32996 samples, validate on 8760 samples\n",
            "Epoch 1/50\n",
            " - 1s - loss: 0.0340 - val_loss: 0.0303\n",
            "Epoch 2/50\n",
            " - 1s - loss: 0.0138 - val_loss: 0.0197\n",
            "Epoch 3/50\n",
            " - 1s - loss: 0.0131 - val_loss: 0.0181\n",
            "Epoch 4/50\n",
            " - 1s - loss: 0.0131 - val_loss: 0.0187\n",
            "Epoch 5/50\n",
            " - 1s - loss: 0.0131 - val_loss: 0.0186\n",
            "Epoch 6/50\n",
            " - 1s - loss: 0.0131 - val_loss: 0.0184\n",
            "Epoch 7/50\n",
            " - 1s - loss: 0.0131 - val_loss: 0.0180\n",
            "Epoch 8/50\n",
            " - 1s - loss: 0.0131 - val_loss: 0.0180\n",
            "Epoch 9/50\n",
            " - 1s - loss: 0.0131 - val_loss: 0.0175\n",
            "Epoch 10/50\n",
            " - 1s - loss: 0.0130 - val_loss: 0.0174\n",
            "Epoch 11/50\n",
            " - 1s - loss: 0.0130 - val_loss: 0.0176\n",
            "Epoch 12/50\n",
            " - 1s - loss: 0.0130 - val_loss: 0.0174\n",
            "Epoch 13/50\n",
            " - 1s - loss: 0.0130 - val_loss: 0.0172\n",
            "Epoch 14/50\n",
            " - 1s - loss: 0.0130 - val_loss: 0.0172\n",
            "Epoch 15/50\n",
            " - 1s - loss: 0.0130 - val_loss: 0.0170\n",
            "Epoch 16/50\n",
            " - 1s - loss: 0.0130 - val_loss: 0.0171\n",
            "Epoch 17/50\n",
            " - 1s - loss: 0.0130 - val_loss: 0.0169\n",
            "Epoch 18/50\n",
            " - 1s - loss: 0.0130 - val_loss: 0.0172\n",
            "Epoch 19/50\n",
            " - 1s - loss: 0.0130 - val_loss: 0.0170\n",
            "Epoch 20/50\n",
            " - 1s - loss: 0.0130 - val_loss: 0.0168\n",
            "Epoch 21/50\n",
            " - 1s - loss: 0.0130 - val_loss: 0.0167\n",
            "Epoch 22/50\n",
            " - 1s - loss: 0.0130 - val_loss: 0.0159\n",
            "Epoch 23/50\n",
            " - 1s - loss: 0.0129 - val_loss: 0.0167\n",
            "Epoch 24/50\n",
            " - 1s - loss: 0.0129 - val_loss: 0.0162\n",
            "Epoch 25/50\n",
            " - 1s - loss: 0.0129 - val_loss: 0.0161\n",
            "Epoch 26/50\n",
            " - 1s - loss: 0.0129 - val_loss: 0.0161\n",
            "Epoch 27/50\n",
            " - 1s - loss: 0.0130 - val_loss: 0.0162\n",
            "Epoch 28/50\n",
            " - 1s - loss: 0.0129 - val_loss: 0.0162\n",
            "Epoch 29/50\n",
            " - 1s - loss: 0.0129 - val_loss: 0.0161\n",
            "Epoch 30/50\n",
            " - 1s - loss: 0.0129 - val_loss: 0.0161\n",
            "Epoch 31/50\n",
            " - 1s - loss: 0.0129 - val_loss: 0.0158\n",
            "Epoch 32/50\n",
            " - 1s - loss: 0.0129 - val_loss: 0.0159\n",
            "Epoch 33/50\n",
            " - 1s - loss: 0.0129 - val_loss: 0.0161\n",
            "Epoch 34/50\n",
            " - 1s - loss: 0.0129 - val_loss: 0.0160\n",
            "Epoch 35/50\n",
            " - 1s - loss: 0.0129 - val_loss: 0.0165\n",
            "Epoch 36/50\n",
            " - 1s - loss: 0.0129 - val_loss: 0.0162\n",
            "Epoch 37/50\n",
            " - 1s - loss: 0.0129 - val_loss: 0.0160\n",
            "Epoch 38/50\n",
            " - 1s - loss: 0.0129 - val_loss: 0.0164\n",
            "Epoch 39/50\n",
            " - 1s - loss: 0.0129 - val_loss: 0.0164\n",
            "Epoch 40/50\n",
            " - 1s - loss: 0.0129 - val_loss: 0.0165\n",
            "Epoch 41/50\n",
            " - 1s - loss: 0.0129 - val_loss: 0.0165\n",
            "Epoch 42/50\n",
            " - 1s - loss: 0.0129 - val_loss: 0.0168\n",
            "Epoch 43/50\n",
            " - 1s - loss: 0.0129 - val_loss: 0.0167\n",
            "Epoch 44/50\n",
            " - 1s - loss: 0.0129 - val_loss: 0.0168\n",
            "Epoch 45/50\n",
            " - 1s - loss: 0.0129 - val_loss: 0.0169\n",
            "Epoch 46/50\n",
            " - 1s - loss: 0.0129 - val_loss: 0.0167\n",
            "Epoch 47/50\n",
            " - 1s - loss: 0.0129 - val_loss: 0.0172\n",
            "Epoch 48/50\n",
            " - 1s - loss: 0.0128 - val_loss: 0.0173\n",
            "Epoch 49/50\n",
            " - 1s - loss: 0.0129 - val_loss: 0.0173\n",
            "Epoch 50/50\n",
            " - 1s - loss: 0.0129 - val_loss: 0.0173\n"
          ],
          "name": "stdout"
        },
        {
          "output_type": "display_data",
          "data": {
            "image/png": "[encoded data removed]",
            "text/plain": [
              "<Figure size 432x288 with 1 Axes>"
            ]
          },
          "metadata": {
            "tags": [],
            "needs_background": "light"
          }
        }
      ]
    },
    {
      "cell_type": "markdown",
      "metadata": {
        "id": "On_qZjAHGcAE",
        "colab_type": "text"
      },
      "source": [
        "Model evaluation\n",
        "We will forecast for the entire test dataset then combine the forecast with the test dataset and invert the scaling. Invert scaling on the test dataset with the expected pollution numbers is also required.\n",
        "Now that we have the forecasts and actual values in their original scales, we can evaluate the model. We shall use the Root Mean Squared Error (RMSE) that gives error in the same units."
      ]
    },
    {
      "cell_type": "code",
      "metadata": {
        "id": "5MXtnG7Gd2mj",
        "colab_type": "code",
        "colab": {
          "base_uri": "https://localhost:8080/",
          "height": 34
        },
        "outputId": "97f48f58-bf9e-4aab-f9ef-c861eab98345"
      },
      "source": [
        "# make predictions\n",
        "y_pred = model.predict(X_test)\n",
        "y_pred.shape"
      ],
      "execution_count": 86,
      "outputs": [
        {
          "output_type": "execute_result",
          "data": {
            "text/plain": [
              "(8760, 1)"
            ]
          },
          "metadata": {
            "tags": []
          },
          "execution_count": 86
        }
      ]
    },
    {
      "cell_type": "code",
      "metadata": {
        "id": "tYwXSevUs4SZ",
        "colab_type": "code",
        "colab": {
          "base_uri": "https://localhost:8080/",
          "height": 34
        },
        "outputId": "4d0f1eb8-b5c4-43e3-f654-af04827bdc97"
      },
      "source": [
        "X_test = X_test.reshape((X_test.shape[0], X_test.shape[2]))\n",
        "X_test.shape"
      ],
      "execution_count": 87,
      "outputs": [
        {
          "output_type": "execute_result",
          "data": {
            "text/plain": [
              "(8760, 8)"
            ]
          },
          "metadata": {
            "tags": []
          },
          "execution_count": 87
        }
      ]
    },
    {
      "cell_type": "code",
      "metadata": {
        "id": "0pZrULu6wGeU",
        "colab_type": "code",
        "colab": {
          "base_uri": "https://localhost:8080/",
          "height": 136
        },
        "outputId": "f7c3eff2-6a88-4400-e76d-cf44f6b36102"
      },
      "source": [
        "print(X_test)"
      ],
      "execution_count": 88,
      "outputs": [
        {
          "output_type": "stream",
          "text": [
            "[[0.12977867 0.35294118 0.24590164 ... 0.00237151 0.         0.        ]\n",
            " [0.14889336 0.36764706 0.24590164 ... 0.00394662 0.         0.        ]\n",
            " [0.15995976 0.42647059 0.2295082  ... 0.00552173 0.         0.        ]\n",
            " ...\n",
            " [0.02414487 0.29411765 0.40983607 ... 0.10439969 0.         0.        ]\n",
            " [0.04627767 0.29411765 0.37704918 ... 0.11310704 0.         0.        ]\n",
            " [0.06136821 0.27941176 0.37704918 ... 0.12022158 0.         0.        ]]\n"
          ],
          "name": "stdout"
        }
      ]
    },
    {
      "cell_type": "code",
      "metadata": {
        "id": "vQvco_x2wMDH",
        "colab_type": "code",
        "colab": {
          "base_uri": "https://localhost:8080/",
          "height": 136
        },
        "outputId": "aab03b4a-311c-4d0d-a303-a9cad309ebc0"
      },
      "source": [
        "print(y_pred)"
      ],
      "execution_count": 89,
      "outputs": [
        {
          "output_type": "stream",
          "text": [
            "[[0.13216259]\n",
            " [0.1513645 ]\n",
            " [0.16454656]\n",
            " ...\n",
            " [0.024085  ]\n",
            " [0.04490561]\n",
            " [0.05884916]]\n"
          ],
          "name": "stdout"
        }
      ]
    },
    {
      "cell_type": "code",
      "metadata": {
        "id": "cIE2n2WSuimP",
        "colab_type": "code",
        "colab": {}
      },
      "source": [
        "# replace the pollution values with the predicted values to get the broadcast shape to inverse transform\n",
        "y_pred=np.concatenate((y_pred, X_test[:,1:]), axis =1)"
      ],
      "execution_count": 0,
      "outputs": []
    },
    {
      "cell_type": "code",
      "metadata": {
        "id": "SWF7VQXg0p3J",
        "colab_type": "code",
        "colab": {}
      },
      "source": [
        "# inverse transform predicted\n",
        "inv_y_pred = scaler.inverse_transform(y_pred)\n",
        "inv_y_pred = inv_y_pred[:,0]"
      ],
      "execution_count": 0,
      "outputs": []
    },
    {
      "cell_type": "code",
      "metadata": {
        "id": "k95NbYbN3Vwg",
        "colab_type": "code",
        "colab": {}
      },
      "source": [
        "# inverse transform actual\n",
        "y_test = y_test.reshape((len(y_test), 1))\n",
        "inv_y_test = np.concatenate((y_test, X_test[:, 1:]), axis=1)\n",
        "inv_y_test = scaler.inverse_transform(inv_y_test)\n",
        "inv_y_test = inv_y_test[:,0]"
      ],
      "execution_count": 0,
      "outputs": []
    },
    {
      "cell_type": "code",
      "metadata": {
        "id": "6H7plXNX1FTs",
        "colab_type": "code",
        "colab": {
          "base_uri": "https://localhost:8080/",
          "height": 34
        },
        "outputId": "8641e3ba-7af4-4cca-a518-1bb8f4982867"
      },
      "source": [
        "# calculate RMSE\n",
        "rmse = sqrt(mean_squared_error(inv_y_test, inv_y_pred))\n",
        "print('Test RMSE: %.3f' % rmse)\n"
      ],
      "execution_count": 93,
      "outputs": [
        {
          "output_type": "stream",
          "text": [
            "Test RMSE: 29.726\n"
          ],
          "name": "stdout"
        }
      ]
    }
  ]
}